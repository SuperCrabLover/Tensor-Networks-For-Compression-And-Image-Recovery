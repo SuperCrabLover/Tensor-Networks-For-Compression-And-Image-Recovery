{
 "cells": [
  {
   "cell_type": "code",
   "execution_count": 3,
   "id": "84c5d6c4",
   "metadata": {},
   "outputs": [],
   "source": [
    "import matplotlib.pyplot as plt\n",
    "from pgm import crop_pgm_image\n",
    "import numpy as np"
   ]
  },
  {
   "cell_type": "code",
   "execution_count": 4,
   "id": "040626f8",
   "metadata": {},
   "outputs": [],
   "source": [
    "file_path = 'gray8bit_Dataset\\\\'\n",
    "file_list = ['nightshot_iso_100.pgm',\n",
    "             'leaves_iso_1600.pgm', \n",
    "             'leaves_iso_200.pgm',\n",
    "             'zone_plate.pgm']"
   ]
  },
  {
   "cell_type": "code",
   "execution_count": 5,
   "id": "7d87c85b",
   "metadata": {},
   "outputs": [],
   "source": [
    "img_dict = {}\n",
    "for file_name in file_list:\n",
    "    with open(file_path + file_name, 'rb') as pgmf:\n",
    "        im = plt.imread(pgmf)\n",
    "        img_dict[file_name] = crop_pgm_image(im)"
   ]
  },
  {
   "cell_type": "code",
   "execution_count": 6,
   "id": "73ccc19e",
   "metadata": {},
   "outputs": [
    {
     "data": {
      "text/plain": [
       "dict_keys(['nightshot_iso_100.pgm', 'leaves_iso_1600.pgm', 'leaves_iso_200.pgm', 'zone_plate.pgm'])"
      ]
     },
     "execution_count": 6,
     "metadata": {},
     "output_type": "execute_result"
    }
   ],
   "source": [
    "img_dict.keys()"
   ]
  },
  {
   "cell_type": "markdown",
   "id": "63e4f877",
   "metadata": {},
   "source": [
    "### SVD"
   ]
  },
  {
   "cell_type": "code",
   "execution_count": 7,
   "id": "9c22eb7d",
   "metadata": {},
   "outputs": [],
   "source": [
    "from numpy.linalg import svd"
   ]
  },
  {
   "cell_type": "code",
   "execution_count": 8,
   "id": "5d95602f",
   "metadata": {},
   "outputs": [],
   "source": [
    "def compress_svd(img, k=0):\n",
    "    U, s, V = svd(img, full_matrices=False)\n",
    "    reconst_matrix = np.dot(U[:,:k], np.dot(np.diag(s[:k]), V[:k,:]))\n",
    "    return reconst_matrix, s\n",
    "\n",
    "def loss(original, reconst):\n",
    "    n, m = original.shape\n",
    "    return np.sum((reconst - original)**2) / (n * m)\n",
    "\n",
    "def compress_show_images(img_name: str):\n",
    "    img = img_dict[img_name]\n",
    "    original_shape = img.shape\n",
    "    U, s, V = svd(img, full_matrices=False)\n",
    "    exp_k = np.arange(5, int(len(s)/2), 5)\n",
    "    compress_ratio = []\n",
    "    loss_list = []\n",
    "    for k in exp_k:\n",
    "        reconst_img, s = compress_svd(img, k)\n",
    "        compress_ratio.append(k*(original_shape[0]+original_shape[1]+1)/(original_shape[0]*original_shape[1]))\n",
    "        loss_list.append(loss(img, reconst_img))\n",
    "    return compress_ratio, loss_list                    \n",
    "                     \n",
    "        \n",
    "        "
   ]
  },
  {
   "cell_type": "code",
   "execution_count": 9,
   "id": "e1006bb4",
   "metadata": {},
   "outputs": [],
   "source": [
    "img_name = file_list[0]\n",
    "compress_ratio, loss_list = compress_show_images(img_name)"
   ]
  },
  {
   "cell_type": "code",
   "execution_count": 10,
   "id": "ece858b0",
   "metadata": {},
   "outputs": [
    {
     "data": {
      "text/plain": [
       "[<matplotlib.lines.Line2D at 0x1ad49e5ec50>]"
      ]
     },
     "execution_count": 10,
     "metadata": {},
     "output_type": "execute_result"
    },
    {
     "data": {
      "image/png": "[encoded data removed]",
      "text/plain": [
       "<Figure size 432x288 with 1 Axes>"
      ]
     },
     "metadata": {
      "needs_background": "light"
     },
     "output_type": "display_data"
    }
   ],
   "source": [
    "plt.plot(compress_ratio, loss_list)"
   ]
  },
  {
   "cell_type": "code",
   "execution_count": null,
   "id": "401c6518",
   "metadata": {},
   "outputs": [],
   "source": []
  }
 ],
 "metadata": {
  "kernelspec": {
   "display_name": "Python 3 (ipykernel)",
   "language": "python",
   "name": "python3"
  },
  "language_info": {
   "codemirror_mode": {
    "name": "ipython",
    "version": 3
   },
   "file_extension": ".py",
   "mimetype": "text/x-python",
   "name": "python",
   "nbconvert_exporter": "python",
   "pygments_lexer": "ipython3",
   "version": "3.10.6"
  }
 },
 "nbformat": 4,
 "nbformat_minor": 5
}
