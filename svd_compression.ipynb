{
 "cells": [
  {
   "cell_type": "code",
   "execution_count": 19,
   "id": "84c5d6c4",
   "metadata": {},
   "outputs": [],
   "source": [
    "import matplotlib.pyplot as plt\n",
    "from pgm import crop_pgm_image\n",
    "import numpy as np\n",
    "from ipywidgets import interact"
   ]
  },
  {
   "cell_type": "code",
   "execution_count": 20,
   "id": "040626f8",
   "metadata": {},
   "outputs": [],
   "source": [
    "file_path = 'gray8bit_Dataset\\\\'\n",
    "file_list = ['nightshot_iso_100.pgm',\n",
    "             'leaves_iso_1600.pgm', \n",
    "             'leaves_iso_200.pgm',\n",
    "             'zone_plate.pgm']"
   ]
  },
  {
   "cell_type": "code",
   "execution_count": 21,
   "id": "7d87c85b",
   "metadata": {},
   "outputs": [],
   "source": [
    "img_dict = {}\n",
    "for file_name in file_list:\n",
    "    with open(file_path + file_name, 'rb') as pgmf:\n",
    "        im = plt.imread(pgmf)\n",
    "        img_dict[file_name] = crop_pgm_image(im)"
   ]
  },
  {
   "cell_type": "code",
   "execution_count": 22,
   "id": "73ccc19e",
   "metadata": {},
   "outputs": [
    {
     "data": {
      "text/plain": [
       "dict_keys(['nightshot_iso_100.pgm', 'leaves_iso_1600.pgm', 'leaves_iso_200.pgm', 'zone_plate.pgm'])"
      ]
     },
     "execution_count": 22,
     "metadata": {},
     "output_type": "execute_result"
    }
   ],
   "source": [
    "img_dict.keys()"
   ]
  },
  {
   "cell_type": "markdown",
   "id": "63e4f877",
   "metadata": {},
   "source": [
    "### SVD"
   ]
  },
  {
   "cell_type": "code",
   "execution_count": 23,
   "id": "9c22eb7d",
   "metadata": {},
   "outputs": [],
   "source": [
    "from numpy.linalg import svd"
   ]
  },
  {
   "cell_type": "code",
   "execution_count": 47,
   "id": "5d95602f",
   "metadata": {},
   "outputs": [],
   "source": [
    "def compress_svd(img, k=0):\n",
    "    U, s, V = svd(img, full_matrices=False)\n",
    "    reconst_matrix = np.dot(U[:,:k], np.dot(np.diag(s[:k]), V[:k,:]))\n",
    "    return reconst_matrix, s\n",
    "\n",
    "def loss(original, reconst):\n",
    "    n, m = original.shape\n",
    "    return np.sum((reconst - original)**2) / (n * m)\n",
    "\n",
    "def compress_show_images(img_name: str):\n",
    "    img = img_dict[img_name]\n",
    "    original_shape = img.shape\n",
    "    U, s, V = svd(img, full_matrices=False)\n",
    "    exp_k = np.arange(5, int(len(s)/2), 5)\n",
    "    compress_ratio = []\n",
    "    loss_list = []\n",
    "    for k in exp_k:\n",
    "        reconst_img, s = compress_svd(img, k)\n",
    "        compress_ratio.append(100*k*(original_shape[0]+original_shape[1]+1)/(original_shape[0]*original_shape[1]))\n",
    "        loss_list.append(loss(img, reconst_img))\n",
    "    return compress_ratio, loss_list                    \n",
    "                     \n",
    "        \n",
    "        "
   ]
  },
  {
   "cell_type": "code",
   "execution_count": 48,
   "id": "937ec115",
   "metadata": {},
   "outputs": [],
   "source": [
    "def compr_image_plot(img_name, k):\n",
    "    img = img_dict[img_name]\n",
    "    reconst_matrix, s = compress_svd(img, k)\n",
    "    fig = plt.figure(figsize=(32, 10))\n",
    "    ax = fig.add_subplot(121)\n",
    "    plt.imshow(reconst_matrix)"
   ]
  },
  {
   "cell_type": "code",
   "execution_count": 53,
   "id": "ece858b0",
   "metadata": {},
   "outputs": [],
   "source": [
    "def loss_compress_plot(img_name):\n",
    "    img = img_dict[img_name]\n",
    "    compress_ratio, loss_list = compress_show_images(img_name)\n",
    "    fig = plt.figure(figsize=(26, 8))\n",
    "    ax = fig.add_subplot(121)\n",
    "    ax.minorticks_on()\n",
    "    ax.grid(which='major',\n",
    "            color = 'k', \n",
    "            linewidth = 0.5)\n",
    "    ax.grid(which='minor', \n",
    "            color = 'k', \n",
    "            linestyle = ':')\n",
    "    plt.plot(compress_ratio, loss_list, c='green', label='SVD')\n",
    "    plt.ylabel('Loss')\n",
    "    plt.xlabel('Compress ratio, %')\n",
    "    plt.legend(loc='best')\n",
    "    plt.title(f'{img_name}', loc='center')\n",
    "    plt.show()"
   ]
  },
  {
   "cell_type": "code",
   "execution_count": 54,
   "id": "f41fecef",
   "metadata": {},
   "outputs": [
    {
     "data": {
      "application/vnd.jupyter.widget-view+json": {
       "model_id": "0c2bd1bf13114f94b1805d5a13f773c7",
       "version_major": 2,
       "version_minor": 0
      },
      "text/plain": [
       "interactive(children=(Dropdown(description='img_name', options=('nightshot_iso_100.pgm', 'leaves_iso_1600.pgm'…"
      ]
     },
     "metadata": {},
     "output_type": "display_data"
    },
    {
     "data": {
      "text/plain": [
       "<function __main__.loss_compress_plot(img_name)>"
      ]
     },
     "execution_count": 54,
     "metadata": {},
     "output_type": "execute_result"
    }
   ],
   "source": [
    "interact(loss_compress_plot, img_name=list(img_dict.keys()))"
   ]
  },
  {
   "cell_type": "code",
   "execution_count": 18,
   "id": "401c6518",
   "metadata": {},
   "outputs": [
    {
     "data": {
      "application/vnd.jupyter.widget-view+json": {
       "model_id": "acd0141df2eb4d7d85457c3783cf3fe4",
       "version_major": 2,
       "version_minor": 0
      },
      "text/plain": [
       "interactive(children=(Dropdown(description='img_name', options=('nightshot_iso_100.pgm', 'leaves_iso_1600.pgm'…"
      ]
     },
     "metadata": {},
     "output_type": "display_data"
    },
    {
     "data": {
      "text/plain": [
       "<function __main__.compr_image_plot(img_name, k)>"
      ]
     },
     "execution_count": 18,
     "metadata": {},
     "output_type": "execute_result"
    }
   ],
   "source": [
    "interact(compr_image_plot, img_name=list(img_dict.keys()), k=(2, 400, 1))"
   ]
  },
  {
   "cell_type": "code",
   "execution_count": null,
   "id": "6b3520b2",
   "metadata": {},
   "outputs": [],
   "source": []
  },
  {
   "cell_type": "code",
   "execution_count": null,
   "id": "8b48837a",
   "metadata": {},
   "outputs": [],
   "source": []
  }
 ],
 "metadata": {
  "kernelspec": {
   "display_name": "Python 3 (ipykernel)",
   "language": "python",
   "name": "python3"
  },
  "language_info": {
   "codemirror_mode": {
    "name": "ipython",
    "version": 3
   },
   "file_extension": ".py",
   "mimetype": "text/x-python",
   "name": "python",
   "nbconvert_exporter": "python",
   "pygments_lexer": "ipython3",
   "version": "3.10.6"
  }
 },
 "nbformat": 4,
 "nbformat_minor": 5
}
