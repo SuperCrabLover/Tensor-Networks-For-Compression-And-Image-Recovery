{
  "nbformat": 4,
  "nbformat_minor": 0,
  "metadata": {
    "colab": {
      "provenance": [],
      "authorship_tag": "ABX9TyO5NTFD1QMfEnc1Ewj9jW/5",
      "include_colab_link": true
    },
    "kernelspec": {
      "name": "python3",
      "display_name": "Python 3"
    },
    "language_info": {
      "name": "python"
    }
  },
  "cells": [
    {
      "cell_type": "markdown",
      "metadata": {
        "id": "view-in-github",
        "colab_type": "text"
      },
      "source": [
        "<a href=\"https://colab.research.google.com/github/SuperCrabLover/Tensor-Networks-For-Compression-And-Image-Recovery/blob/Experiment1/Tensor_Experiment_1.ipynb\" target=\"_parent\"><img src=\"https://colab.research.google.com/assets/colab-badge.svg\" alt=\"Open In Colab\"/></a>"
      ]
    },
    {
      "cell_type": "code",
      "source": [
        "from google.colab import drive\n",
        "drive.mount('/content/drive')\n",
        "\n",
        "#https://imagecompression.info/test_images/"
      ],
      "metadata": {
        "colab": {
          "base_uri": "https://localhost:8080/"
        },
        "id": "Tvz0RnC6pUiW",
        "outputId": "4d93406b-8c0a-4dfb-d88f-16ac0dc497b4"
      },
      "execution_count": 7,
      "outputs": [
        {
          "output_type": "stream",
          "name": "stdout",
          "text": [
            "Mounted at /content/drive\n"
          ]
        }
      ]
    },
    {
      "cell_type": "code",
      "source": [
        "!pip3 install tensornetwork"
      ],
      "metadata": {
        "colab": {
          "base_uri": "https://localhost:8080/"
        },
        "id": "w-wswFl8irLt",
        "outputId": "6e94cf57-ea57-426b-9001-5ad294ed2a82"
      },
      "execution_count": 2,
      "outputs": [
        {
          "output_type": "stream",
          "name": "stdout",
          "text": [
            "Looking in indexes: https://pypi.org/simple, https://us-python.pkg.dev/colab-wheels/public/simple/\n",
            "Collecting tensornetwork\n",
            "  Downloading tensornetwork-0.4.6-py3-none-any.whl (364 kB)\n",
            "\u001b[K     |████████████████████████████████| 364 kB 15.1 MB/s \n",
            "\u001b[?25hRequirement already satisfied: scipy>=1.1 in /usr/local/lib/python3.7/dist-packages (from tensornetwork) (1.7.3)\n",
            "Requirement already satisfied: opt-einsum>=2.3.0 in /usr/local/lib/python3.7/dist-packages (from tensornetwork) (3.3.0)\n",
            "Requirement already satisfied: numpy>=1.17 in /usr/local/lib/python3.7/dist-packages (from tensornetwork) (1.21.6)\n",
            "Collecting graphviz>=0.11.1\n",
            "  Downloading graphviz-0.20.1-py3-none-any.whl (47 kB)\n",
            "\u001b[K     |████████████████████████████████| 47 kB 3.8 MB/s \n",
            "\u001b[?25hRequirement already satisfied: h5py>=2.9.0 in /usr/local/lib/python3.7/dist-packages (from tensornetwork) (3.1.0)\n",
            "Requirement already satisfied: cached-property in /usr/local/lib/python3.7/dist-packages (from h5py>=2.9.0->tensornetwork) (1.5.2)\n",
            "Installing collected packages: graphviz, tensornetwork\n",
            "  Attempting uninstall: graphviz\n",
            "    Found existing installation: graphviz 0.10.1\n",
            "    Uninstalling graphviz-0.10.1:\n",
            "      Successfully uninstalled graphviz-0.10.1\n",
            "Successfully installed graphviz-0.20.1 tensornetwork-0.4.6\n"
          ]
        }
      ]
    },
    {
      "cell_type": "code",
      "source": [
        "import matplotlib.pyplot as plt\n",
        "import numpy as np\n",
        "import math\n",
        "import tensornetwork as tn\n",
        "import albumentations as A\n",
        "import logging"
      ],
      "metadata": {
        "id": "cvIR1E4rsqky"
      },
      "execution_count": 3,
      "outputs": []
    },
    {
      "cell_type": "code",
      "source": [
        "logger = logging.getLogger('my_logger')\n",
        "%mkdir loggings\n",
        "logging.basicConfig(level=logging.DEBUG, filename='loggings/Experiment1' + '.log', filemode='a', format=\"%(levelname)s - %(message)s\")\n",
        "\n",
        "pgmf_path = \"/content/drive/MyDrive/gray8bit/\"\n",
        "file_list = ['artificial.pgm', \n",
        "             'big_building.pgm', \n",
        "             'big_tree.pgm', \n",
        "             'cathedral.pgm', \n",
        "             'bridge.pgm', \n",
        "             'hdr.pgm', \n",
        "             'flower_foveon.pgm', \n",
        "             'fireworks.pgm', 'deer.pgm', \n",
        "             'nightshot_iso_100.pgm', \n",
        "             'leaves_iso_200.pgm', \n",
        "             'leaves_iso_1600.pgm',\n",
        "             'zone_plate.pgm', \n",
        "             'spider_web.pgm', \n",
        "             'nightshot_iso_1600.pgm']"
      ],
      "metadata": {
        "id": "JoXq_CQLWtcu"
      },
      "execution_count": 4,
      "outputs": []
    },
    {
      "cell_type": "code",
      "source": [
        "def create_node(matrix, tensor_base):\n",
        "  \n",
        "  if len(matrix.shape) > 2:\n",
        "    logger.error(f\"create_node error: len(matrix.shape) ({len(matrix.shape)}) is more than {2}\")\n",
        "    return None\n",
        "  \n",
        "  pix_am = matrix.shape[0] * matrix.shape[1]\n",
        "  N = math.log(pix_am, tensor_base)\n",
        "  if not N.is_integer():\n",
        "    logger.error(f\"create_node error: the tensor rank {N} is not an integer\")\n",
        "    return None\n",
        "  return tn.Node(np.reshape(matrix, tuple([tensor_base] * int(N)))) "
      ],
      "metadata": {
        "id": "FnHG5N7TTu0z"
      },
      "execution_count": 5,
      "outputs": []
    },
    {
      "cell_type": "code",
      "execution_count": 9,
      "metadata": {
        "colab": {
          "base_uri": "https://localhost:8080/"
        },
        "id": "v2Wd_E7ol88O",
        "outputId": "8b45cd33-9793-4ce0-8090-fc2b14829c1d"
      },
      "outputs": [
        {
          "output_type": "stream",
          "name": "stdout",
          "text": [
            "__unnamed_node__\n"
          ]
        }
      ],
      "source": [
        "crop = A.Resize(width=512, height=512)\n",
        "\n",
        "im = 0\n",
        "for file_name in file_list:\n",
        "  with open(pgmf_path + file_name, 'rb') as pgmf:\n",
        "      im = plt.imread(pgmf)\n",
        "  im = crop(image=im)[\"image\"]\n",
        "  break\n",
        "\n",
        "im_node = create_node(im, 4)"
      ]
    }
  ]
}